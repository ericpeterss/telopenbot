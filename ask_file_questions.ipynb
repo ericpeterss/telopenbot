{
 "cells": [
  {
   "cell_type": "code",
   "execution_count": 1,
   "id": "2d3e92ed",
   "metadata": {},
   "outputs": [],
   "source": [
    "from langchain.document_loaders import TextLoader\n",
    "from langchain.text_splitter import RecursiveCharacterTextSplitter"
   ]
  },
  {
   "cell_type": "markdown",
   "id": "5166d759",
   "metadata": {},
   "source": [
    "### Load your data"
   ]
  },
  {
   "cell_type": "code",
   "execution_count": 2,
   "id": "b4a2d6bf",
   "metadata": {},
   "outputs": [],
   "source": [
    "loader = TextLoader('/Users/pei-jrweng/Documents/my_code_projects/telopenbot/data/meditation.txt')"
   ]
  },
  {
   "cell_type": "code",
   "execution_count": 3,
   "id": "bcdac23c",
   "metadata": {},
   "outputs": [],
   "source": [
    "data = loader.load()"
   ]
  },
  {
   "cell_type": "code",
   "execution_count": 4,
   "id": "b4fd7c9e",
   "metadata": {},
   "outputs": [
    {
     "name": "stdout",
     "output_type": "stream",
     "text": [
      "You have 1 document(s) in your data\n",
      "There are 187584 characters in your document\n"
     ]
    }
   ],
   "source": [
    "print (f'You have {len(data)} document(s) in your data')\n",
    "print (f'There are {len(data[0].page_content)} characters in your document')"
   ]
  },
  {
   "cell_type": "markdown",
   "id": "8af9b604",
   "metadata": {},
   "source": [
    "### Chunk your data up into smaller documents"
   ]
  },
  {
   "cell_type": "code",
   "execution_count": 5,
   "id": "fb3c6f02",
   "metadata": {},
   "outputs": [],
   "source": [
    "text_splitter = RecursiveCharacterTextSplitter(chunk_size=1000, chunk_overlap=0)\n",
    "texts = text_splitter.split_documents(data)"
   ]
  },
  {
   "cell_type": "code",
   "execution_count": 6,
   "id": "879873a4",
   "metadata": {},
   "outputs": [
    {
     "name": "stdout",
     "output_type": "stream",
     "text": [
      "Now you have 191 documents\n"
     ]
    }
   ],
   "source": [
    "print (f'Now you have {len(texts)} documents')"
   ]
  },
  {
   "cell_type": "markdown",
   "id": "838b2843",
   "metadata": {},
   "source": [
    "### Create embeddings of your documents to get ready for semantic search"
   ]
  },
  {
   "cell_type": "code",
   "execution_count": 7,
   "id": "373e695a",
   "metadata": {},
   "outputs": [
    {
     "name": "stderr",
     "output_type": "stream",
     "text": [
      "/Users/pei-jrweng/Documents/my_code_projects/telopenbot/venv/lib/python3.9/site-packages/pinecone/index.py:4: TqdmExperimentalWarning: Using `tqdm.autonotebook.tqdm` in notebook mode. Use `tqdm.tqdm` instead to force console mode (e.g. in jupyter console)\n",
      "  from tqdm.autonotebook import tqdm\n"
     ]
    },
    {
     "data": {
      "text/plain": [
       "True"
      ]
     },
     "execution_count": 7,
     "metadata": {},
     "output_type": "execute_result"
    }
   ],
   "source": [
    "from langchain.vectorstores import Pinecone\n",
    "from langchain.embeddings.openai import OpenAIEmbeddings\n",
    "import pinecone\n",
    "import os\n",
    "from dotenv import load_dotenv\n",
    "\n",
    "load_dotenv()"
   ]
  },
  {
   "cell_type": "code",
   "execution_count": 8,
   "id": "0e093ef3",
   "metadata": {
    "hide_input": false
   },
   "outputs": [],
   "source": [
    "OPENAI_API_KEY = os.getenv(\"OPENAI_API_KEY\")\n",
    "PINECONE_API_KEY = os.getenv(\"PINECONE_API_KEY\")\n",
    "PINECONE_API_ENV = 'us-east1-gcp'"
   ]
  },
  {
   "cell_type": "code",
   "execution_count": 9,
   "id": "4e0d1c6a",
   "metadata": {},
   "outputs": [],
   "source": [
    "embeddings = OpenAIEmbeddings(openai_api_key=OPENAI_API_KEY)"
   ]
  },
  {
   "cell_type": "code",
   "execution_count": 10,
   "id": "0deb2f6a",
   "metadata": {},
   "outputs": [],
   "source": [
    "# initialize pinecone\n",
    "pinecone.init(\n",
    "    api_key=PINECONE_API_KEY,  # find at app.pinecone.io\n",
    "    environment=PINECONE_API_ENV  # next to api key in console\n",
    ")\n",
    "index_name = \"meditation\""
   ]
  },
  {
   "cell_type": "code",
   "execution_count": 11,
   "id": "388988ce",
   "metadata": {},
   "outputs": [],
   "source": [
    "docsearch = Pinecone.from_texts([t.page_content for t in texts], embeddings, index_name=index_name)"
   ]
  },
  {
   "cell_type": "code",
   "execution_count": 12,
   "id": "34929595",
   "metadata": {},
   "outputs": [
    {
     "data": {
      "text/plain": [
       "[Document(page_content='這個日常作息聽起來或許不那麼累人，畢竟除了禪修，其他事情都\\n\\n跟我們一般認定的工作毫無瓜葛，但剛開始前幾天還挺折磨人的。你\\n\\n有試過盤腿坐在蒲團上，並聚焦於自己的呼吸上嗎？這可不是在野\\n\\n餐，尤其當你像我一樣不善於聚焦在自己的呼吸時，更是如此。在靜\\n\\n坐的前幾日，我在整整四十五分鐘的課程中，甚至無法連續專注在自\\n\\n己的呼吸上達到十次。我之所以知道，是因為我在計算！只要數到第\\n\\n三或第四次，我的心神就開始遊蕩，然後不知道自己數到哪裡了，屢\\n\\n試不爽。有時候其實是我仍在數數，但腦子已經想到別的事情，沒有\\n\\n以意識去感受呼吸。\\n\\n每次發生這種事，我就會生自己的氣，而且在禪七的前幾天，我變\\n\\n得越來越生氣──而這對我並沒有幫助。接著，我的怒氣開始擴及到那\\n\\n些做得比我好的人身上，大概有八十人這麼多吧──也就是在場的所有\\n\\n人。想像一下，要與八十個做得比你好的人，待在一起一整週！那些\\n\\n人都「成功」了，而你卻「一敗塗地」。\\n\\n我的重大突破\\n\\n到了第五天早上，我終於有了重大突破。早餐之後，我喝了太多自\\n\\n己帶來的即溶咖啡，導致接著要開始靜坐時，出現咖啡因攝取過多的\\n\\n典型症狀：下顎緊繃到令我不適，覺得自己在咬牙切齒，不斷干擾我\\n\\n保持專注。與這種干擾搏鬥了一會兒，最後我索性放棄搏鬥，把注意\\n\\n力轉移到緊繃的下顎。或者，我並不是真的「轉移」了注意力，而是\\n\\n「擴大」了注意力：我繼續意識到自己在呼吸，但是退讓到後方，讓\\n\\n惱人的下顎緊繃感移動到舞臺中央。\\n\\n順帶一提，這種重新調整注意力的做法是完全沒有問題的。在典型\\n\\n的正念靜坐教導中，聚焦於呼吸的關鍵在於：並非只聚焦在呼吸，還\\n\\n要穩定心緒，讓它從一般所關注的事情中釋放出來。如此一來，你便\\n\\n可在清明、從容、緩和的方式中，觀察到當下發生的事情。而所謂\\n\\n「當下發生的事情」，當然也包括那個瞬間發生在你內心的事，那些\\n\\n從內部湧出的感受：悲傷、焦慮、煩惱、放鬆、喜悅等。而你試著要\\n\\n從不同於以往的觀點來經歷這些感受，既不緊抓著這些美好感受不\\n\\n放，也不逃離那些不好的感受，而是直接了當地去經歷、去觀察。這\\n\\n種視角的更動，將會徹底、持久地改變你和自身感受之間的關係。要\\n\\n是一切進行順利，你便可以不再成為這些感受的俘虜。\\n\\n攝取過量咖啡因，讓我的下顎緊繃不已。但當我把某些注意力投入', metadata={}),\n",
       " Document(page_content='非常合理。（也就是與你的感受保持某種臨界距離，可以讓你更能控\\n\\n制自己，在任何特定時刻都保持是你。）\\n\\n推動思緒的燃料\\n\\n「感受的正念觀點」以及「心智的模組化模型」之間，還有個更微\\n\\n妙、更細緻，以及更具思索性的連結。要看見這個連結的第一步，就\\n\\n是當你靜坐時要密切關注。我其實很想把上一句話改為「當你靜坐失\\n\\n敗時要密切關注」，因為我所談的這個靜坐部分，就是當思緒不斷受\\n\\n到干擾，使得你無法聚焦於呼吸。但要是你密切關注在這個「失\\n\\n敗」，那麼，這就不是失敗的靜坐，因為密切關注於正在發生的事，\\n\\n就是正念靜坐。\\n\\n總之，當我試著要聚焦在自己的呼吸時，我注意到闖入的思緒是這\\n\\n個樣子：它們似乎通常都附帶著感受。更重要的是，它們吸引我的能\\n\\n力（也就是我持續受到吸引，讓我無法注意到它們正抓住我的注意\\n\\n力），似乎與這些感受的強度有關。如果你不相信，就坐下來、閉上\\n\\n眼、聚焦在你的呼吸。然後，一旦你開始無法聚焦在呼吸（應該不必\\n\\n等太久！），就試著聚焦在那個讓你無法專心的東西上。我的意思不\\n\\n止是要你聚焦在那些使你分心的思緒上，更要看看你是否能夠偵測\\n\\n到，那使你分心的思緒所連結的某些感受。\\n\\n有時，思緒和感受之間的連結是顯而易見的。因為感受是如此強\\n\\n烈，甚至是原始的。如果你正想著要與鄰居的配偶上床，或是你擔心\\n\\n自己的配偶與鄰居上床，或是正幻想著鄰居因與自己的配偶上床，而\\n\\n應該得到怎樣的報復⋯⋯與這些思緒相關的感受，不管是欲望、嫉妒\\n\\n或復仇，都太原始，強大到難以忽視。\\n\\n但即使是心智比較不那麼動物性、比較「人性」的不著邊際思緒，\\n\\n與之連結的感受仍舊頗為顯著。回顧最近的一次社交勝利，也許是你\\n\\n講的笑話獲得廣大回響，而這讓你感覺很好，所以你反覆回想了一陣\\n\\n子，也許你會覺得當時還可以再加上一句機智結尾，然後決心下回一\\n\\n定要添上這一筆。你正沉吟著一個你可能會錯過的重要期限，並且感\\n\\n到擔憂，而憂慮讓你沉浸在即將到來的崩潰之中，直到你提出一個行\\n\\n動計畫，或說服自己這個截止日期並不那麼重要。之後憂慮消退，思\\n\\n緒也隨之消失。\\n\\n即便是最理性的心智遊蕩，似乎也都伴隨著感受。\\n\\n如果我靜坐時，任憑自己的好奇心沉溺在某件事情上，例如沉思某\\n\\n個謎題並全心投入，我發現沉思能帶來愉悅，就像是一根吊在前頭的\\n\\n紅蘿蔔，讓我沿著謎題前行，走向解答。要是我得到解答，就會得到', metadata={}),\n",
       " Document(page_content='平靜，甚至是深刻的平安。你或許無法在每次靜坐時都獲得這種感\\n\\n受，但是對某些人來說，發生的頻率已足以讓他願意每天回到座墊上\\n\\n靜坐，這也是維持靜坐生活的積極方式之一。\\n\\n不過，一旦開始藉由呼吸來約束遊蕩的心智，你就來到了十字路\\n\\n口。基於兩種類型的靜坐，你有兩條路可走。\\n\\n正定和正念\\n\\n第一條路，就是持續聚焦在你的呼吸，這會先讓你有很長一段時間\\n\\n都感覺良好。接著試試強化且加深聚焦，讓自己更加沉浸在呼吸裡。\\n\\n繼續維持這個狀態，你可能會覺得感覺越來越好。這就是正定靜坐，\\n\\n而讓你聚焦的事物未必要是呼吸。根據不同靜坐傳統，聚焦的對象可\\n\\n以是曼怛羅（咒語，又稱真言）、想像出的畫面，或是重複的音律。\\n\\n正定靜坐有時指的是「靜心靜坐」。這還頗有道理，因為專注能讓\\n\\n你靜心。的確，專注能帶來的，遠多於讓你內心平靜。有時候如果時\\n\\n間夠久，還能帶來禪悅或入定這種充滿力量的感受。\\n\\n沒錯，我講的就是禪悅或入定這種充滿⼒量的感受。在我首次參加\\n\\n禪修營的第五晚，我經歷到「聚焦於呼吸」這項標準修訂版的技巧。\\n\\n吸氣時聚焦在呼吸本身，但吐氣時則聚焦在吐氣的聲音。把注意力放\\n\\n在吐氣的聲音上很簡單，因為那是麻州鄉間炎熱夏季的夜晚，禪堂的\\n\\n窗戶敞開，某種昆蟲（我猜是蟬）正進行大合唱。我靜坐時，加強聚\\n\\n焦在呼吸以及昆蟲的合唱。兩者的音量似乎正不斷加強，完全滲入我\\n\\n的注意力。在靜坐了二十五或三十分鐘之後，我攫獲了某種劇烈又充\\n\\n滿力量、但難以言說的經驗。我會在本書稍後竭力描述這段感受，但\\n\\n現在我只能說，這段經歷非常、非常鮮明。\\n\\n其實，我還想再加一個「非常」。我不知道吸食強烈迷幻藥LSD和\\n\\n海洛因的第一手經驗是什麼樣子，不過我猜很像那晚我所經歷的：逼\\n\\n近幻覺的強烈視覺效果以及強烈的幸福感。我還記得，當時我的下巴\\n\\n彷彿注射了某種效力強大的麻醉藥，喜悅和幻覺流竄我全身。我覺得\\n\\n自己像是跨越了某個門檻，進入了另一個領域。\\n\\n如果我那晚所經歷的事情聽起來十分動人，我這裡得要說些壞消\\n\\n息。帶我進入這種高峰經驗的靜坐，也就是正定靜坐，並不是本書要\\n\\n談論的，也不是我參加禪修營原本要進行的靜坐。\\n\\n在禪修營的尾聲，我驕傲地將自己的經驗告訴麥可．格雷迪（兩位\\n\\n老師之一），他只是淡淡地說（這讓我感到有點沮喪）：「聽起來不\\n\\n錯。但不要太過依戀。」在這個禪修營裡，我們要做的是「正念靜', metadata={})]"
      ]
     },
     "execution_count": 12,
     "metadata": {},
     "output_type": "execute_result"
    }
   ],
   "source": [
    "query = \"How can I overcome distractions while meditating?\"\n",
    "docs = docsearch.similarity_search(query, include_metadata=True, k=3)\n",
    "docs"
   ]
  },
  {
   "cell_type": "markdown",
   "id": "3c35dcd9",
   "metadata": {},
   "source": [
    "### Query those docs to get your answer back"
   ]
  },
  {
   "cell_type": "code",
   "execution_count": 13,
   "id": "f051337b",
   "metadata": {},
   "outputs": [],
   "source": [
    "from langchain.chat_models import ChatOpenAI\n",
    "# from langchain.llms import OpenAI\n",
    "from langchain.chains.question_answering import load_qa_chain"
   ]
  },
  {
   "cell_type": "code",
   "execution_count": 14,
   "id": "6b9b1c03",
   "metadata": {},
   "outputs": [],
   "source": [
    "llm = ChatOpenAI(temperature=1, openai_api_key=OPENAI_API_KEY, model_name=\"gpt-4\")\n",
    "chain = load_qa_chain(llm, chain_type=\"stuff\")"
   ]
  },
  {
   "cell_type": "code",
   "execution_count": 15,
   "id": "f67ea7c2",
   "metadata": {},
   "outputs": [],
   "source": [
    "query = \"How can I overcome distractions while meditating?\"\n",
    "docs = docsearch.similarity_search(query, include_metadata=True)"
   ]
  },
  {
   "cell_type": "code",
   "execution_count": 16,
   "id": "3dfd2b7d",
   "metadata": {},
   "outputs": [
    {
     "data": {
      "text/plain": [
       "\"To overcome distractions while meditating, try the following techniques:\\n\\n1. Set a clear intention: Before starting your meditation, set a clear intention to maintain focus and be present.\\n\\n2. Choose a suitable environment: Find a quiet and comfortable space, free from external distractions or noise, to meditate.\\n\\n3. Start with short sessions: Begin with shorter meditation sessions to help build your focus gradually. As you get better at handling distractions, you can increase the duration of your sessions.\\n\\n4. Focus on your breath: Concentrate on your breathing as it provides a natural point of focus. Observe the inhalation and exhalation process, and try to maintain awareness of your breath throughout your meditation.\\n\\n5. Be gentle with yourself: When your mind wanders or gets distracted, gently bring your focus back to the breath. Don't judge yourself or get frustrated; remember that it is natural for the mind to wander.\\n\\n6. Acknowledge distractions: When distractions arise, acknowledge them, and then let them go without judgment. Gently redirect your focus back to your breath or meditation object.\\n\\n7. Use a mantra or visualization: You can try using a mantra (a word or phrase repeated silently) or visualization technique to help keep your focus during meditation.\\n\\n8. Practice mindfulness: During your daily activities, try to practice mindfulness to improve your ability to stay present and be aware of the current moment.\\n\\n9. Be consistent: Maintain a regular meditation practice to strengthen your focus and your ability to handle distractions over time.\\n\\n10. Be patient: Overcoming distractions is a gradual process. Be patient and give yourself the time required to develop your meditation skills.\""
      ]
     },
     "execution_count": 16,
     "metadata": {},
     "output_type": "execute_result"
    }
   ],
   "source": [
    "chain.run(input_documents=docs, question=query)"
   ]
  },
  {
   "cell_type": "code",
   "execution_count": null,
   "id": "485bc94c",
   "metadata": {},
   "outputs": [],
   "source": []
  }
 ],
 "metadata": {
  "kernelspec": {
   "display_name": "Python 3 (ipykernel)",
   "language": "python",
   "name": "python3"
  },
  "language_info": {
   "codemirror_mode": {
    "name": "ipython",
    "version": 3
   },
   "file_extension": ".py",
   "mimetype": "text/x-python",
   "name": "python",
   "nbconvert_exporter": "python",
   "pygments_lexer": "ipython3",
   "version": "3.9.15"
  }
 },
 "nbformat": 4,
 "nbformat_minor": 5
}
